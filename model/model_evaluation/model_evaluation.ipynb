{
 "cells": [
  {
   "cell_type": "code",
   "execution_count": 1,
   "id": "e84314b9-f8ac-45f4-a7b2-a86079cf30fb",
   "metadata": {},
   "outputs": [],
   "source": [
    "import joblib\n",
    "model = joblib.load('../model.pkl')"
   ]
  },
  {
   "cell_type": "code",
   "execution_count": 2,
   "id": "33d8ec92",
   "metadata": {},
   "outputs": [],
   "source": [
    "import pandas as pd\n",
    "import json\n",
    "X_val = pd.read_csv('X_val.csv', index_col=0)\n",
    "y_val = pd.read_csv('y_val.csv', index_col=0)\n",
    "test = pd.concat([X_val, y_val], axis=1)\n",
    "bookmaker_odds = json.load(open('odds.json'))"
   ]
  },
  {
   "cell_type": "code",
   "execution_count": 3,
   "id": "1924db3b-ca3d-438c-bfd0-944b772f7530",
   "metadata": {},
   "outputs": [
    {
     "name": "stdout",
     "output_type": "stream",
     "text": [
      "[0.3994215 0.6005785]\n"
     ]
    },
    {
     "data": {
      "text/plain": [
       "array([0.3994215, 0.6005785])"
      ]
     },
     "execution_count": 3,
     "metadata": {},
     "output_type": "execute_result"
    }
   ],
   "source": [
    "print(model.best_estimator_.predict_proba(test.iloc[0].drop(['Home','Visitor','Date'])))\n",
    "model.predict_proba(test.iloc[0].drop(['Home','Visitor','Date']))"
   ]
  },
  {
   "cell_type": "code",
   "execution_count": 4,
   "id": "1fc28e95-8de1-44fb-822b-72db08e12172",
   "metadata": {},
   "outputs": [],
   "source": [
    "def get_bookmakers_odds(game):\n",
    "    if game in bookmaker_odds:\n",
    "        return bookmaker_odds[game]\n",
    "    return {}"
   ]
  },
  {
   "cell_type": "code",
   "execution_count": 5,
   "id": "63c38928-fe7c-4ce2-a4e8-b103129434cd",
   "metadata": {},
   "outputs": [],
   "source": [
    "import strategy\n",
    "from importlib import reload"
   ]
  },
  {
   "cell_type": "code",
   "execution_count": 7,
   "id": "1b7c5903-2179-407e-97e4-52dc039d9fc8",
   "metadata": {},
   "outputs": [
    {
     "name": "stdout",
     "output_type": "stream",
     "text": [
      "Total winnings:\n",
      " {'Open_Line': 10983.242999701944, 'Pinnacle': -2130.8190163020845, '5dimes': -2225.8099217453523, 'Heritage': -364.85565162103154, 'Bovada': -1914.5628350622428, 'Betonline': 2267.7937914350587, 'Average_Line': 125610.5011082534, 'Best_Line': 2393.1612093197177, 'Worst_Line': -5922.646166706438} \n",
      "\n",
      "Average Stake:\n",
      " {'Open_Line': 117.34089658782706, 'Pinnacle': 124.09481629421064, '5dimes': 124.25894687011836, 'Heritage': 123.95920249726474, 'Bovada': 110.20290524481311, 'Betonline': 120.77548106294861, 'Average_Line': 129.46254880742404, 'Best_Line': 127.25438399499502, 'Worst_Line': 117.7882841069046}\n",
      "Winning per one betted game:\n",
      " {'Open_Line': 10.576401261917136, 'Pinnacle': -1.8766005074068177, '5dimes': -1.9407013342318098, 'Heritage': -0.33034261346465393, 'Bovada': -2.1369090327097005, 'Betonline': 2.10032870165566, 'Average_Line': 106.97308192611115, 'Best_Line': 1.9508423182580683, 'Worst_Line': -5.83996898895667} \n",
      "\n",
      "Average win per one betted game: 1.0653627459599686\n",
      "Winnings per 100 games:\n",
      " {'Open_Line': 1241.0444067459825, 'Pinnacle': -232.87639522427153, '5dimes': -241.14950398107825, 'Heritage': -40.949006915940686, 'Bovada': -235.49358364849235, 'Betonline': 253.66820933278063, 'Average_Line': 13849.007839939735, 'Best_Line': 248.2532374812985, 'Worst_Line': -687.8799264467407} \n",
      "\n",
      "The percentage of betted games:\n",
      " {'Open_Line': 0.9067622950819673, 'Pinnacle': 0.9223790322580645, '5dimes': 0.936105476673428, 'Heritage': 0.9064089521871821, 'Bovada': 0.9073660714285714, 'Betonline': 0.9103869653767821, 'Average_Line': 0.9097291875626881, 'Best_Line': 0.966900702106319, 'Worst_Line': 0.8635907723169508} \n",
      "\n",
      "Total amount of possible bets:\n",
      " {'Open_Line': 976, 'Pinnacle': 992, '5dimes': 986, 'Heritage': 983, 'Bovada': 896, 'Betonline': 982, 'Average_Line': 997, 'Best_Line': 997, 'Worst_Line': 997} \n",
      "\n",
      "Bookmaker accuracy\n",
      ": {'Open_Line': 0.7412429378531074, 'Pinnacle': 0.7355191256830601, '5dimes': 0.7280606717226435, 'Heritage': 0.7474747474747475, 'Bovada': 0.7429274292742928, 'Betonline': 0.7472035794183445, 'Average_Line': 0.7442116868798236, 'Best_Line': 0.7022821576763485, 'Worst_Line': 0.7839721254355401}\n",
      "Model accuracy: 0.6258503401360545\n"
     ]
    }
   ],
   "source": [
    "reload(strategy)\n",
    "bookmakers = ['Open_Line', 'Pinnacle', '5dimes', 'Heritage', 'Bovada', 'Betonline', 'Average_Line', 'Best_Line', 'Worst_Line']\n",
    "winnings = dict((bookmaker, 0) for bookmaker in bookmakers)\n",
    "total_bets = dict((bookmaker, 0) for bookmaker in bookmakers)\n",
    "possible_bets = dict((bookmaker, 0) for bookmaker in bookmakers)\n",
    "sum_of_stakes = dict((bookmaker, 0) for bookmaker in bookmakers)\n",
    "bookmaker_accuracy = dict((bookmaker, 0) for bookmaker in bookmakers)\n",
    "model_accuracy = 0\n",
    "total_predictions = 0\n",
    "\n",
    "stake = 100\n",
    "threshold = .34\n",
    "for game in test.iloc:\n",
    "    game_name = game.Date + game.Visitor + '-' + game.Home\n",
    "    bookmakers_odds = get_bookmakers_odds(game_name)\n",
    "    predictions = model.predict_proba(game.drop(['Date','Home','Visitor']))\n",
    "    for bookmaker, odds in bookmakers_odds.items():\n",
    "        bet = strategy.bet(stake, predictions, odds, threshold)\n",
    "        winnings[bookmaker] += bet[game.Winner] / odds[game.Winner] - sum(bet)\n",
    "        total_bets[bookmaker] += sum(bet) != 0\n",
    "        possible_bets[bookmaker] += 1\n",
    "        sum_of_stakes[bookmaker] += sum(bet)\n",
    "        bookmaker_accuracy[bookmaker] += (1 - round(odds[0])) == game.Winner\n",
    "    model_accuracy += (1 - round(predictions[0])) == game.Winner\n",
    "    total_predictions += 1\n",
    "\n",
    "average_stake = dict((bookmaker, sum_of_stakes[bookmaker] / total_bets[bookmaker]) for bookmaker in bookmakers)\n",
    "win_per_game = dict((bookmaker, winnings[bookmaker] / total_bets[bookmaker] / (average_stake[bookmaker] / stake)) for bookmaker in bookmakers)\n",
    "print('Total winnings:\\n', winnings, '\\n')\n",
    "print('Average Stake:\\n', dict((bookmaker, sum_of_stakes[bookmaker] / total_bets[bookmaker]) for bookmaker in bookmakers))\n",
    "print('Winning per one betted game:\\n', win_per_game, '\\n')\n",
    "print('Average win per one betted game:', sum(list(win_per_game.values())[:6]) / 6)\n",
    "print('Winnings per 100 games:\\n', dict((bookmaker, winnings[bookmaker] / total_bets[bookmaker] * 100) for bookmaker in bookmakers), '\\n')\n",
    "print('The percentage of betted games:\\n', dict((bookmaker, total_bets[bookmaker] / possible_bets[bookmaker]) for bookmaker in bookmakers), '\\n')\n",
    "print('Total amount of possible bets:\\n', possible_bets, '\\n')\n",
    "print('Bookmaker accuracy\\n:', dict((bookmaker, bookmaker_accuracy[bookmaker] / total_bets[bookmaker]) for bookmaker in bookmakers), '\\n')\n",
    "print('Model accuracy:', model_accuracy / total_predictions)"
   ]
  },
  {
   "cell_type": "code",
   "execution_count": 79,
   "id": "4879b6d3-8f62-4213-ab77-e368166b22af",
   "metadata": {},
   "outputs": [
    {
     "data": {
      "text/plain": [
       "<module 'strategy' from '/home/nigga/model-lab/strategy.py'>"
      ]
     },
     "execution_count": 79,
     "metadata": {},
     "output_type": "execute_result"
    }
   ],
   "source": []
  }
 ],
 "metadata": {
  "kernelspec": {
   "display_name": "Python 3 (ipykernel)",
   "language": "python",
   "name": "python3"
  },
  "language_info": {
   "codemirror_mode": {
    "name": "ipython",
    "version": 3
   },
   "file_extension": ".py",
   "mimetype": "text/x-python",
   "name": "python",
   "nbconvert_exporter": "python",
   "pygments_lexer": "ipython3",
   "version": "3.10.5"
  }
 },
 "nbformat": 4,
 "nbformat_minor": 5
}
